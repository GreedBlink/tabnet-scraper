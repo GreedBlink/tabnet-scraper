{
 "cells": [
  {
   "cell_type": "code",
   "execution_count": 1,
   "id": "d700dd88-1ed8-43d5-af08-fd3626a336d1",
   "metadata": {},
   "outputs": [],
   "source": [
    "#from tabnet_scraper.tabnet_driver import TabnetDriver\n",
    "from tabnet_scraper.schema_components import *\n",
    "#driver = TabnetDriver()"
   ]
  },
  {
   "cell_type": "code",
   "execution_count": 3,
   "id": "b947a273-2dba-4e94-aef7-a4578fd6688d",
   "metadata": {},
   "outputs": [],
   "source": [
    "from unidecode import unidecode\n",
    "from typing import List\n",
    "from selenium import webdriver\n",
    "from selenium.webdriver.firefox.service import Service as FirefoxService\n",
    "from webdriver_manager.firefox import GeckoDriverManager\n",
    "\n",
    "\n",
    "from selenium.webdriver.support.ui import Select\n",
    "from selenium.webdriver.common.by import By\n",
    "from selenium.webdriver.chrome.service import Service as ChromeService\n",
    "from webdriver_manager.chrome import ChromeDriverManager\n",
    "\n",
    "from selenium.webdriver.support.wait import WebDriverWait\n",
    "from selenium.webdriver.support import expected_conditions as EC\n",
    "\n",
    "from selenium.webdriver.chrome.options import Options\n",
    "\n",
    "from tabnet_scraper.schema_components import TabnetComponents\n",
    "\n",
    "class TabnetDriver:\n",
    "\n",
    "    def __init__(self, extractions: TabnetComponents):\n",
    "\n",
    "        self.extractions = extractions\n",
    "        options = Options()\n",
    "        self.driver = webdriver.Chrome(service=ChromeService(ChromeDriverManager().install()),options=options)\n",
    "\n",
    "    @staticmethod\n",
    "    def select_options(item:str, component: list, driver):\n",
    "        helpers = {\n",
    "            'row': 'L',\n",
    "            'column': 'C',\n",
    "            'incremet': 'I'\n",
    "        }\n",
    "        \n",
    "    \n",
    "        item_html_element = Select(driver.find_element(by=By.ID, value=helpers.get(item)) )\n",
    "        \n",
    "\n",
    "        lower_components = [unidecode(comp).lower() for comp in component]\n",
    "        items_to_click = [option for option in item_html_element.options if unidecode(option.text).lower() in lower_components]\n",
    "    \n",
    "        \n",
    "        item_html_element.deselect_all\n",
    "        for to_select in items_to_click:\n",
    "            item_html_element.select_by_value(to_select.get_property('value'))\n",
    "    \n",
    "        return None \n",
    "\n",
    "    @staticmethod\n",
    "    def select_custom_filters(extraction_filters:List[dict], driver):\n",
    "        options = driver.find_element(by=By.CLASS_NAME, value='opcoes')\n",
    "        filters = options.find_elements(by=By.CLASS_NAME, value='titulo_select')\n",
    "    \n",
    "        for custom_filter in filters:\n",
    "            aux = unidecode(custom_filter.find_element(by=By.TAG_NAME, value='label').text)\n",
    "            #if aux == 'Diagnostico Detalhado':\n",
    "            custom_filter.find_element(by=By.TAG_NAME, value='img').click()\n",
    "            select_custom_filter_options = Select(custom_filter.find_element(by=By.CLASS_NAME, value='fundo_select_tabnet'))\n",
    "            select_custom_filter_options.deselect_all\n",
    "            for filter_value in extraction_filters:\n",
    "                select_custom_filter_options.select_by_visible_text(filter_value['values'])\n",
    "\n",
    "\n",
    "        \n",
    "    \n",
    "    def extract(self, url:str):\n",
    "\n",
    "        self.driver.get(url)\n",
    "        \n",
    "        self.current_page = self.driver.current_window_handle\n",
    "        \n",
    "        for index, component in enumerate(self.extractions.components):\n",
    "            #row\n",
    "            self.select_options(item='row', component=component.row,driver= self.driver)\n",
    "            #col\n",
    "            self.select_options(item='column', component=component.column,driver=self.driver)\n",
    "            #mesure\n",
    "            self.select_options(item='incremet', component=component.mesure,driver=self.driver)\n",
    "            #custom filters\n",
    "            self.select_custom_filters(component.custom_filters, self.driver)\n",
    "\n",
    "            tabs = self.driver.window_handles\n",
    "            for tab in tabs:\n",
    "                if(tab!=self.current_page):\n",
    "                    self.driver.switch_to.window(tab)\n",
    "                    \n",
    "            WebDriverWait(self.driver, 60).until(EC.presence_of_element_located((By.LINK_TEXT, 'SALVA COMO CSV')))    \n",
    "            self.driver.find_element(by=By.LINK_TEXT,value='SALVA COMO CSV').click()\n",
    "\n",
    "            yield {\n",
    "                \"id\": component.id,\n",
    "                \"index\": index,\n",
    "                \"row\": component.row,\n",
    "                \"column\": component.col,\n",
    "                \"measure\": component.mesure,\n",
    "                \"filters\": component.custom_filters,\n",
    "                \"status\": True\n",
    "             }\n",
    "            \n",
    "        self.driver.quit()\n",
    "        \n",
    "    "
   ]
  },
  {
   "cell_type": "code",
   "execution_count": 5,
   "id": "62ec737b-b25c-434c-8e6c-3c3e70be9d8d",
   "metadata": {},
   "outputs": [],
   "source": [
    "\n",
    "\n",
    "component = TabnetComponent(\n",
    "        id='cancer_de_mama_painel_oncologia',\n",
    "        row=['Município da residência'],\n",
    "        column=['Sexo'],\n",
    "        mesure=['Casos'],\n",
    "        period=['2023'],\n",
    "        custom_filters = [\n",
    "            {'name': 'Diagnóstico Detalhado','values': ['C53 - Neoplasia maligna do colo do útero']},\n",
    "            {'name': 'Sexo','values': ['Feminino']}\n",
    "        ]\n",
    ")\n",
    "scraper = TabnetDriver(extractions=TabnetComponents(components = [component]))\n",
    "\n"
   ]
  },
  {
   "cell_type": "code",
   "execution_count": 6,
   "id": "f091456b-75b0-4535-830e-250e10e6c67e",
   "metadata": {},
   "outputs": [],
   "source": [
    "driver = scraper.driver"
   ]
  },
  {
   "cell_type": "code",
   "execution_count": 9,
   "id": "8a55a2c5-8dd6-493b-b0d1-cdb0b3e9d1f5",
   "metadata": {},
   "outputs": [],
   "source": [
    "driver.get('http://tabnet.datasus.gov.br/cgi/dhdat.exe?PAINEL_ONCO/PAINEL_ONCOLOGIABR.def')\n",
    "options = driver.find_element(by=By.CLASS_NAME, value='opcoes')\n",
    "filters = options.find_elements(by=By.CLASS_NAME, value='titulo_select')"
   ]
  },
  {
   "cell_type": "code",
   "execution_count": 12,
   "id": "ed74124a-3c76-483a-88c0-2c7349f004ea",
   "metadata": {},
   "outputs": [
    {
     "data": {
      "text/plain": [
       "'Regiao - residencia'"
      ]
     },
     "execution_count": 12,
     "metadata": {},
     "output_type": "execute_result"
    }
   ],
   "source": [
    "unidecode(filters[0].find_element(by=By.TAG_NAME, value='label').text)"
   ]
  },
  {
   "cell_type": "code",
   "execution_count": 64,
   "id": "e126556e-2339-4bc8-8238-0c1d2487bfea",
   "metadata": {},
   "outputs": [],
   "source": [
    "driver = driver.driver\n",
    "driver.get('http://tabnet.datasus.gov.br/cgi/dhdat.exe?PAINEL_ONCO/PAINEL_ONCOLOGIABR.def')"
   ]
  },
  {
   "cell_type": "code",
   "execution_count": 160,
   "id": "46ff6422-32e2-42ca-ad1f-32e49f0fe1be",
   "metadata": {},
   "outputs": [],
   "source": [
    "\n",
    "class TabnetComponent(BaseModel):\n",
    "    id: str\n",
    "    column: List[str] = Field(description='')\n",
    "    row: List[str] = Field(description='')\n",
    "    mesure: str = Field(description='')\n",
    "    period: List[str] = Field(description='')\n",
    "    custom_filters: List[dict] = Field(description='', options=True)\n"
   ]
  },
  {
   "cell_type": "code",
   "execution_count": 187,
   "id": "8e413a3f-8626-47d8-aaf2-9ff25aa26cb0",
   "metadata": {},
   "outputs": [],
   "source": [
    "component = TabnetComponent(\n",
    "    id='cancer_de_mama_painel_oncologia',\n",
    "    row=['Município da residência'],\n",
    "    column=['Sexo'],\n",
    "    mesure='Casos',\n",
    "    period=['2023'],\n",
    "    custom_filters = [\n",
    "        {'name': 'Diagnóstico Detalhado','values': ['C53 - Neoplasia maligna do colo do útero']},\n",
    "        {'name': 'Sexo','values': ['Feminino']}\n",
    "    ]\n",
    ")\n",
    "\n",
    "\n",
    "#tabnet_components = TabnetComponents(components = [component])"
   ]
  },
  {
   "cell_type": "code",
   "execution_count": 65,
   "id": "8a04d465-292a-4763-bdad-480a991d81d6",
   "metadata": {},
   "outputs": [],
   "source": [
    "current_page_handle = driver.current_window_handle"
   ]
  },
  {
   "cell_type": "code",
   "execution_count": 191,
   "id": "bd2f40e7-67f4-4fd7-afce-c866642b7b47",
   "metadata": {},
   "outputs": [
    {
     "data": {
      "text/plain": [
       "'3D8B39E6A7C83D656D80B10814A3388B'"
      ]
     },
     "execution_count": 191,
     "metadata": {},
     "output_type": "execute_result"
    }
   ],
   "source": [
    "current_page_handle"
   ]
  },
  {
   "cell_type": "code",
   "execution_count": null,
   "id": "ebbd4f4f-4278-4987-a2a7-e17d6a1e43cb",
   "metadata": {},
   "outputs": [],
   "source": [
    "def select_options(item:str, component: list, driver):\n",
    "    helpers = {\n",
    "        'row': 'L',\n",
    "        'column': 'C',\n",
    "        'incremet': 'I'\n",
    "    }\n",
    "\n",
    "    item_html_element = Select(driver.find_element(by=By.ID, helpers.get(item)))\n",
    "    lower_components = [unidecode(comp).lower() for comp in component]\n",
    "    items_to_click = [option for option in item_html_element.options if unidecode(option.text).lower() in lower_components]\n",
    "\n",
    "    \n",
    "    item_html_element.deselect_all\n",
    "    for to_select in items_to_click:\n",
    "        item_html_element.select_by_value(to_select.get_property('value'))\n",
    "\n",
    "    return None"
   ]
  },
  {
   "cell_type": "markdown",
   "id": "3053c633-d21e-4941-a284-0ff54a38a429",
   "metadata": {},
   "source": [
    "Selecionando elementos da linha"
   ]
  },
  {
   "cell_type": "code",
   "execution_count": 103,
   "id": "3508e5dc-d12f-4cb3-a1d3-e35896e577f8",
   "metadata": {},
   "outputs": [],
   "source": [
    "rows_html_element = Select(driver.find_element(by=By.ID,value='L'))\n",
    "lower_components = [unidecode(comp).lower() for comp in component.row]\n",
    "rows_to_click = [option for option in rows_html_element.options if unidecode(option.text).lower() in lower_components]\n",
    "\n",
    "\n",
    "rows_html_element.deselect_all\n",
    "for to_select in rows_to_click:\n",
    "    rows_html_element.select_by_value(to_select.get_property('value'))"
   ]
  },
  {
   "cell_type": "markdown",
   "id": "641e9eed-cac4-43c0-8e96-277902236d30",
   "metadata": {},
   "source": [
    "Selecionando elementos da coluna"
   ]
  },
  {
   "cell_type": "code",
   "execution_count": 104,
   "id": "86a2f6eb-8c14-4be3-b29e-f102ced76923",
   "metadata": {},
   "outputs": [],
   "source": [
    "cols_html_element = Select(driver.find_element(by=By.ID,value='C'))\n",
    "lower_components = [unidecode(comp).lower() for comp in component.column]\n",
    "cols_to_click = [option for option in cols_html_element.options if unidecode(option.text).lower() in lower_components]\n",
    "\n",
    "\n",
    "cols_html_element.deselect_all\n",
    "for to_select in cols_to_click:\n",
    "    cols_html_element.select_by_value(to_select.get_property('value'))"
   ]
  },
  {
   "cell_type": "markdown",
   "id": "e0e84bc4-a5d1-414a-8da9-e849154306a6",
   "metadata": {},
   "source": [
    "Selecionando elementos de incremento (medida)"
   ]
  },
  {
   "cell_type": "code",
   "execution_count": 110,
   "id": "a360488c-cac6-4c1f-8637-dc01c3fe36a6",
   "metadata": {},
   "outputs": [],
   "source": [
    "mesures_html_element = Select(driver.find_element(by=By.ID,value='I'))\n",
    "lower_components = [unidecode(component.mesure.lower()).lower()]\n",
    "mesures_to_click = [option for option in mesures_html_element.options if unidecode(option.text).lower() in lower_components]\n",
    "\n",
    "\n",
    "\n",
    "mesures_html_element.deselect_all\n",
    "for to_select in mesures_to_click:\n",
    "    mesures_html_element.select_by_value(to_select.get_property('value'))"
   ]
  },
  {
   "cell_type": "code",
   "execution_count": 114,
   "id": "4acaed5a-8eab-4e3e-b20e-2208dd061859",
   "metadata": {},
   "outputs": [
    {
     "name": "stdout",
     "output_type": "stream",
     "text": [
      "ok\n"
     ]
    }
   ],
   "source": [
    "if 'custom_filters' in component.model_fields:\n",
    "    print('ok')"
   ]
  },
  {
   "cell_type": "code",
   "execution_count": 121,
   "id": "d9547ad4-70f7-4558-a900-b72d44fa7f47",
   "metadata": {},
   "outputs": [],
   "source": [
    "from selenium.webdriver.common.action_chains import ActionChains"
   ]
  },
  {
   "cell_type": "code",
   "execution_count": null,
   "id": "22664660-1fdf-491e-900c-9bb40a15e794",
   "metadata": {},
   "outputs": [],
   "source": [
    "def select_custom_filters(filters, driver):\n",
    "    options = driver.find_element(by=By.CLASS_NAME, value='opcoes')\n",
    "    filters = options.find_elements(by=By.CLASS_NAME, value='titulo_select')\n",
    "\n",
    "    for custom_filter in filters:\n",
    "        aux = unidecode(custom_filter.find_element(by=By.TAG_NAME, value='label').text)\n",
    "        #if aux == 'Diagnostico Detalhado':\n",
    "        custom_filter.find_element(by=By.TAG_NAME, value='img').click()\n",
    "        select_custom_filter_options = Select(custom_filter.find_element(by=By.CLASS_NAME, value='fundo_select_tabnet'))\n",
    "        select_custom_filter_options.deselect_all\n",
    "        for filter_value in component.custom_filters[0]['values']:\n",
    "            select_custom_filter_options.select_by_visible_text(filter_value)\n"
   ]
  },
  {
   "cell_type": "code",
   "execution_count": 188,
   "id": "5a74c069-d553-489a-8d72-6971b68763e1",
   "metadata": {},
   "outputs": [],
   "source": [
    "x = driver.find_element(by=By.CLASS_NAME, value='opcoes')\n",
    "\n",
    "\n",
    "#x = (\n",
    "#    ActionChains(driver)\n",
    "#    .move_to_element(driver.find_element(by=By.CLASS_NAME, value='selecoes'))\n",
    "#    .move_to_element(driver.find_element(by=By.CLASS_NAME, value='corposelecoes'))\n",
    "#    .move_to_element(driver.find_element(by=By.CLASS_NAME, value='opcoes'))\n",
    "#    .perform()\n",
    "#)\n",
    "\n",
    "filters = x.find_elements(by=By.CLASS_NAME, value='titulo_select')\n"
   ]
  },
  {
   "cell_type": "code",
   "execution_count": 189,
   "id": "95e6ab5d-2170-4bb2-95ab-3ed95e9e451d",
   "metadata": {},
   "outputs": [],
   "source": [
    "#custom filters\n",
    "for custom_filter in filters:\n",
    "    aux = unidecode(custom_filter.find_element(by=By.TAG_NAME, value='label').text)\n",
    "    if aux == 'Diagnostico Detalhado':\n",
    "        custom_filter.find_element(by=By.TAG_NAME, value='img').click()\n",
    "        select_custom_filter_options = Select(custom_filter.find_element(by=By.CLASS_NAME, value='fundo_select_tabnet'))\n",
    "        select_custom_filter_options.deselect_all\n",
    "        for filter_value in component.custom_filters[0]['values']:\n",
    "            select_custom_filter_options.select_by_visible_text(filter_value)\n",
    "\n",
    "        "
   ]
  },
  {
   "cell_type": "code",
   "execution_count": 190,
   "id": "33b7a3d1-52bb-470f-9abd-6c66c1c8cec1",
   "metadata": {},
   "outputs": [],
   "source": [
    "driver.find_element(by=By.CLASS_NAME,value='botoes').find_element(by=By.NAME, value='button1').click()"
   ]
  },
  {
   "cell_type": "code",
   "execution_count": 198,
   "id": "ce318ad3-9944-4724-9851-8db175c387a1",
   "metadata": {},
   "outputs": [],
   "source": [
    "tabs = driver.window_handles\n",
    "for tab in tabs:\n",
    "    if(tab!=current_page_handle):\n",
    "        driver.switch_to.window(tab)\n",
    "#WebDriverWait(driver, 60).until(EC.presence_of_element_located((By.LINK_TEXT, 'SALVA COMO CSV')))    "
   ]
  },
  {
   "cell_type": "code",
   "execution_count": 199,
   "id": "937493d0-e853-4698-9ae0-7a7fce4e9fb4",
   "metadata": {},
   "outputs": [],
   "source": [
    "driver.find_element(by=By.LINK_TEXT,value='SALVA COMO CSV').click()"
   ]
  },
  {
   "cell_type": "code",
   "execution_count": 180,
   "id": "197e78c2-232c-4eca-8773-f6233241438e",
   "metadata": {},
   "outputs": [
    {
     "data": {
      "text/plain": [
       "'C02 - Neoplasia maligna de outras partes e de partes não especificadas da língua'"
      ]
     },
     "execution_count": 180,
     "metadata": {},
     "output_type": "execute_result"
    }
   ],
   "source": [
    "select_custom_filter_options.options[3].text"
   ]
  }
 ],
 "metadata": {
  "kernelspec": {
   "display_name": "Python 3 (ipykernel)",
   "language": "python",
   "name": "python3"
  },
  "language_info": {
   "codemirror_mode": {
    "name": "ipython",
    "version": 3
   },
   "file_extension": ".py",
   "mimetype": "text/x-python",
   "name": "python",
   "nbconvert_exporter": "python",
   "pygments_lexer": "ipython3",
   "version": "3.9.20"
  }
 },
 "nbformat": 4,
 "nbformat_minor": 5
}
